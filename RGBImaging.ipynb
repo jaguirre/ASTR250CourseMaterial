{
 "cells": [
  {
   "cell_type": "code",
   "execution_count": 1,
   "metadata": {},
   "outputs": [],
   "source": [
    "%matplotlib qt\n",
    "import numpy as np\n",
    "import matplotlib.pyplot as plt\n",
    "from astropy.io import fits\n",
    "from astropy.wcs import WCS\n",
    "from reproject import reproject_interp\n",
    "from astropy.visualization import make_lupton_rgb\n",
    "from ImagingHelpers import Image, rgb_scale as rgbscale"
   ]
  },
  {
   "cell_type": "code",
   "execution_count": 2,
   "metadata": {},
   "outputs": [],
   "source": [
    "# Look for files in the current directory\n",
    "path = './'"
   ]
  },
  {
   "cell_type": "code",
   "execution_count": 3,
   "metadata": {},
   "outputs": [],
   "source": [
    "B = Image(path+'NM20in-20200405-031953-M37-B.fts')\n",
    "V = Image(path+'NM20in-20200405-040513-M37-V.fts')\n",
    "R = Image(path+'NM20in-20200405-042428-M37-R.fts')"
   ]
  },
  {
   "cell_type": "markdown",
   "metadata": {},
   "source": [
    "Make an image with just the data as it comes to show the misalignment."
   ]
  },
  {
   "cell_type": "code",
   "execution_count": 23,
   "metadata": {},
   "outputs": [],
   "source": [
    "plt.figure()\n",
    "#plt.imshow(B.data)\n",
    "plt.plot(B.data[2048,:])\n",
    "plt.show()"
   ]
  },
  {
   "cell_type": "code",
   "execution_count": 4,
   "metadata": {},
   "outputs": [],
   "source": [
    "Bu = rgbscale(B.data, log=True, vmin=3,vmax=3.4)\n",
    "Vu = rgbscale(V.data, log=True, vmin=3,vmax=3.4)\n",
    "Ru = rgbscale(R.data, log=True, vmin=3,vmax=3.4)"
   ]
  },
  {
   "cell_type": "code",
   "execution_count": 24,
   "metadata": {},
   "outputs": [],
   "source": [
    "rgbu = np.stack((Ru,Vu,Bu), axis=2)"
   ]
  },
  {
   "cell_type": "code",
   "execution_count": 25,
   "metadata": {},
   "outputs": [],
   "source": [
    "plt.figure()\n",
    "plt.imshow(rgbu)\n",
    "plt.show()"
   ]
  },
  {
   "cell_type": "markdown",
   "metadata": {},
   "source": [
    "Now do reprojection, relative to B."
   ]
  },
  {
   "cell_type": "code",
   "execution_count": 4,
   "metadata": {},
   "outputs": [],
   "source": [
    "fits.writeto('M37_B_rp.fits', B.data, header=B.header, overwrite=True)"
   ]
  },
  {
   "cell_type": "code",
   "execution_count": 5,
   "metadata": {},
   "outputs": [
    {
     "name": "stdout",
     "output_type": "stream",
     "text": [
      "CPU times: user 3.88 ms, sys: 1.93 ms, total: 5.81 ms\n",
      "Wall time: 28.3 ms\n"
     ]
    }
   ],
   "source": [
    "%%time\n",
    "try:\n",
    "    Vr = fits.open('M37_V_rp.fits')[0].data\n",
    "    Vfoot = fits.open('M37_Vfoot_rp.fits')[0].data\n",
    "except:\n",
    "    Vr, Vfoot = reproject_interp(V.hdu, B.header)\n",
    "    fits.writeto('M37_V_rp.fits', Vr, header=B.header)\n",
    "    fits.writeto('M37_Vfoot_rp.fits', Vfoot, header=B.header)"
   ]
  },
  {
   "cell_type": "code",
   "execution_count": 6,
   "metadata": {},
   "outputs": [
    {
     "name": "stdout",
     "output_type": "stream",
     "text": [
      "CPU times: user 3.97 ms, sys: 2.07 ms, total: 6.04 ms\n",
      "Wall time: 25.5 ms\n"
     ]
    }
   ],
   "source": [
    "%%time\n",
    "try:\n",
    "    Rr = fits.open('M37_R_rp.fits')[0].data\n",
    "    Rfoot = fits.open('M37_Rfoot_rp.fits')[0].data\n",
    "except:\n",
    "    Rr, Rfoot = reproject_interp(R.hdu, B.header)\n",
    "    fits.writeto('M37_R_rp.fits', Rr, header=B.header)\n",
    "    fits.writeto('M37_Rfoot_rp.fits', Rfoot, header=B.header)"
   ]
  },
  {
   "cell_type": "code",
   "execution_count": 29,
   "metadata": {},
   "outputs": [],
   "source": [
    "plt.figure()\n",
    "plt.imshow(Rfoot)\n",
    "plt.colorbar()\n",
    "plt.show()"
   ]
  },
  {
   "cell_type": "code",
   "execution_count": 11,
   "metadata": {},
   "outputs": [],
   "source": [
    "plt.figure()\n",
    "plt.imshow(Rr, vmax=2000)\n",
    "plt.colorbar()\n",
    "plt.show()"
   ]
  },
  {
   "cell_type": "code",
   "execution_count": 13,
   "metadata": {},
   "outputs": [
    {
     "name": "stderr",
     "output_type": "stream",
     "text": [
      "/Users/jaguirre/Documents/Teaching/ASTR250/ASTR250CourseMaterial/ImagingHelpers.py:34: RuntimeWarning: invalid value encountered in less_equal\n",
      "  scaled[scaled <= vmin] = vmin\n",
      "/Users/jaguirre/Documents/Teaching/ASTR250/ASTR250CourseMaterial/ImagingHelpers.py:38: RuntimeWarning: invalid value encountered in greater_equal\n",
      "  scaled[scaled >= vmax] = vmax\n"
     ]
    }
   ],
   "source": [
    "Blsc = rgbscale(B.data, log=True, vmin=3,vmax=3.2)\n",
    "Vlsc = rgbscale(Vr, log=True, vmin=3,vmax=3.2)\n",
    "Rlsc = rgbscale(Rr, log=True, vmin=3,vmax=3.2)"
   ]
  },
  {
   "cell_type": "code",
   "execution_count": 14,
   "metadata": {},
   "outputs": [],
   "source": [
    "rgb = np.stack((Rlsc,Vlsc,Blsc), axis=2)"
   ]
  },
  {
   "cell_type": "code",
   "execution_count": 18,
   "metadata": {},
   "outputs": [],
   "source": [
    "plt.figure()\n",
    "plt.subplot(projection = B.wcs)\n",
    "plt.imshow(rgb)\n",
    "#plt.colorbar(shrink=0.8)\n",
    "plt.show()"
   ]
  },
  {
   "cell_type": "code",
   "execution_count": null,
   "metadata": {},
   "outputs": [],
   "source": []
  }
 ],
 "metadata": {
  "kernelspec": {
   "display_name": "Python 3",
   "language": "python",
   "name": "python3"
  },
  "language_info": {
   "codemirror_mode": {
    "name": "ipython",
    "version": 3
   },
   "file_extension": ".py",
   "mimetype": "text/x-python",
   "name": "python",
   "nbconvert_exporter": "python",
   "pygments_lexer": "ipython3",
   "version": "3.7.7"
  }
 },
 "nbformat": 4,
 "nbformat_minor": 4
}
