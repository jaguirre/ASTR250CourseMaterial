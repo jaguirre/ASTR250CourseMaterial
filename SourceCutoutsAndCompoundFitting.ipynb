{
 "cells": [
  {
   "cell_type": "markdown",
   "metadata": {},
   "source": [
    "This notebook will show two tricks for working with images: how to map between pixel number and RA/Dec, and how to get a smaller image \"cut out\" of a larger one.  We'll also show how to make a more complicated "
   ]
  },
  {
   "cell_type": "code",
   "execution_count": 1,
   "metadata": {},
   "outputs": [],
   "source": [
    "%matplotlib qt\n",
    "import numpy as np\n",
    "import matplotlib.pyplot as plt\n",
    "from astropy import units as u\n",
    "from astropy import constants as c\n",
    "from astropy.io import fits\n",
    "from astropy.wcs import WCS\n",
    "from reproject import reproject_interp\n",
    "import ImagingHelpers as ih\n",
    "from astropy.coordinates import SkyCoord\n",
    "from astropy.nddata import Cutout2D\n",
    "\n",
    "from astropy.modeling.functional_models import Const2D, Gaussian2D\n",
    "from astropy.modeling import models, fitting"
   ]
  },
  {
   "cell_type": "code",
   "execution_count": 2,
   "metadata": {},
   "outputs": [],
   "source": [
    "def Display(image, wcs, **kwargs):\n",
    "    \"\"\" A quick way of getting an image plotted with proper WCS.\n",
    "    The extra keywords get passed to imshow to adjust its behavior.  \"\"\"\n",
    "    fig = plt.figure()\n",
    "    ax = plt.axes(projection=wcs)\n",
    "    plt.subplot(ax)\n",
    "    plt.imshow(image, **kwargs)\n",
    "    plt.colorbar(shrink=0.8)\n",
    "    plt.show()"
   ]
  },
  {
   "cell_type": "code",
   "execution_count": 3,
   "metadata": {},
   "outputs": [],
   "source": [
    "hdu = fits.open('simulated_image.fits')\n",
    "wcs = WCS(hdu[0].header)\n",
    "data = hdu[0].data"
   ]
  },
  {
   "cell_type": "code",
   "execution_count": 4,
   "metadata": {},
   "outputs": [
    {
     "data": {
      "text/plain": [
       "Text(0.5, 1.0, 'Simulated image')"
      ]
     },
     "execution_count": 4,
     "metadata": {},
     "output_type": "execute_result"
    }
   ],
   "source": [
    "Display(data, wcs, vmax=50)\n",
    "plt.title('Simulated image')"
   ]
  },
  {
   "cell_type": "code",
   "execution_count": 5,
   "metadata": {},
   "outputs": [],
   "source": [
    "# The RA/Dec coordinates of a source, read off from the image above\n",
    "radec0 = SkyCoord(\"05h30m00.9s +30d01m00s\")"
   ]
  },
  {
   "cell_type": "code",
   "execution_count": 6,
   "metadata": {},
   "outputs": [],
   "source": [
    "# Find the pixel coordinates from the RA/Dec in the image and display\n",
    "x0, y0 = wcs.all_world2pix(radec0.ra.deg, radec0.dec.deg, 0)"
   ]
  },
  {
   "cell_type": "code",
   "execution_count": 7,
   "metadata": {},
   "outputs": [
    {
     "data": {
      "text/plain": [
       "Text(0.5, 1.0, 'Target source marked')"
      ]
     },
     "execution_count": 7,
     "metadata": {},
     "output_type": "execute_result"
    }
   ],
   "source": [
    "Display(data, wcs, vmax=50)\n",
    "plt.plot(x0, y0, 'x', color='red')\n",
    "plt.title('Target source marked')"
   ]
  },
  {
   "cell_type": "code",
   "execution_count": 8,
   "metadata": {},
   "outputs": [],
   "source": [
    "# Get the source positions and brightnesses\n",
    "x_true = hdu[1].data['x_src']\n",
    "y_true = hdu[1].data['y_src']\n",
    "I_true = hdu[1].data['I_src']\n",
    "# Notice that we can also producet the ra, dec of the sources from the pixel positions (which is what was stored)\n",
    "ra_true, dec_true = wcs.all_pix2world(x_true, y_true, 1)"
   ]
  },
  {
   "cell_type": "code",
   "execution_count": 9,
   "metadata": {},
   "outputs": [],
   "source": [
    "# x and y here refer to what you would think ...\n",
    "plt.imshow(data, vmax=50, origin='lower')\n",
    "plt.plot(x_true, y_true, 'x', color='red')\n",
    "plt.title('All sources')\n",
    "plt.show()"
   ]
  },
  {
   "cell_type": "code",
   "execution_count": 10,
   "metadata": {},
   "outputs": [
    {
     "data": {
      "text/plain": [
       "Text(0.5, 1.0, 'All sources plus target')"
      ]
     },
     "execution_count": 10,
     "metadata": {},
     "output_type": "execute_result"
    }
   ],
   "source": [
    "# Even if displayed in RA/Dec, source positions still need to be in pixels\n",
    "Display(data, wcs, vmax=50)\n",
    "plt.plot(x_true, y_true, 'x', color='red')\n",
    "plt.plot(x0, y0, 'x', color='green')\n",
    "plt.title('All sources plus target')"
   ]
  },
  {
   "cell_type": "code",
   "execution_count": 11,
   "metadata": {},
   "outputs": [],
   "source": [
    "# Which source in the list was this?  We need this to know the right answer for position and flux ...\n",
    "# Let's find the distance between our source and all the ones in the list, and pick the source that's closest\n",
    "d = np.sqrt( np.power(x_true - x0, 2) + np.power(y_true - y0, 2) )\n",
    "indx_src = np.argmin(d)"
   ]
  },
  {
   "cell_type": "code",
   "execution_count": 12,
   "metadata": {},
   "outputs": [
    {
     "name": "stdout",
     "output_type": "stream",
     "text": [
      "225.62 369.00\n",
      "224.96 369.20\n",
      "82.50375 30.01667\n",
      "82.50402 30.01656\n"
     ]
    }
   ],
   "source": [
    "# Check that the pixel positions and RA/Dec we read off from the image match the \n",
    "print('%.2f %.2f' % (x0, y0))\n",
    "print('%.2f %.2f' % (x_true[indx_src], y_true[indx_src]))\n",
    "print('%.5f %.5f' % (radec0.ra.deg, radec0.dec.deg))\n",
    "print('%.5f %.5f' % (ra_true[indx_src], dec_true[indx_src]))"
   ]
  },
  {
   "cell_type": "code",
   "execution_count": 13,
   "metadata": {},
   "outputs": [],
   "source": [
    "# This extent will also be good for the real data as well\n",
    "extent = 0.5*u.arcmin\n",
    "# The cutout object is so useful! It already has .data and .wcs attributes!\n",
    "cutout = Cutout2D(data, radec0, (extent, extent), wcs=wcs, copy=True, mode='partial')"
   ]
  },
  {
   "cell_type": "code",
   "execution_count": 14,
   "metadata": {},
   "outputs": [],
   "source": [
    "# Find the nominal location of the source in the cutout\n",
    "cutout_max = cutout.data.max()\n",
    "tpl = np.where(cutout.data == cutout_max)\n",
    "y_mcu, x_mcu = tpl[0][0], tpl[1][0]"
   ]
  },
  {
   "cell_type": "code",
   "execution_count": 15,
   "metadata": {},
   "outputs": [
    {
     "data": {
      "text/plain": [
       "Text(0.5, 1.0, 'Cutout')"
      ]
     },
     "execution_count": 15,
     "metadata": {},
     "output_type": "execute_result"
    }
   ],
   "source": [
    "Display(cutout.data, cutout.wcs)\n",
    "plt.plot(x_mcu, y_mcu, 'x', color='red')\n",
    "plt.title('Cutout')"
   ]
  },
  {
   "cell_type": "code",
   "execution_count": 16,
   "metadata": {},
   "outputs": [
    {
     "data": {
      "text/plain": [
       "<CompoundModel(amplitude_0=79.32238576, x_mean_0=29., y_mean_0=29., x_stddev_0=3., y_stddev_0=3., theta_0=0., amplitude_1=5.)>"
      ]
     },
     "execution_count": 16,
     "metadata": {},
     "output_type": "execute_result"
    }
   ],
   "source": [
    "# These are pixel coordinates for the cutout, just used for fitting\n",
    "x_cutout, y_cutout = np.meshgrid(np.arange(cutout.xmax_cutout+1), np.arange(cutout.ymax_cutout+1))\n",
    "# OK, let's remember that Gaussian fitting ... \n",
    "gaussian = Gaussian2D(amplitude=cutout_max,x_mean=x_mcu,y_mean=y_mcu,x_stddev=3.,y_stddev=3.,theta=0.) \n",
    "offset = Const2D(amplitude=np.median(cutout.data))          \n",
    "\n",
    "# This is the new wrinkle!\n",
    "gaussoff = gaussian + offset\n",
    "                       \n",
    "source_model = gaussoff\n",
    "source_model"
   ]
  },
  {
   "cell_type": "code",
   "execution_count": 17,
   "metadata": {},
   "outputs": [],
   "source": [
    "# initialize a fitter\n",
    "source_fitter = fitting.LevMarLSQFitter()"
   ]
  },
  {
   "cell_type": "code",
   "execution_count": 18,
   "metadata": {},
   "outputs": [
    {
     "name": "stdout",
     "output_type": "stream",
     "text": [
      "Model: CompoundModel\n",
      "Inputs: ('x', 'y')\n",
      "Outputs: ('z',)\n",
      "Model set size: 1\n",
      "Expression: [0] + [1]\n",
      "Components: \n",
      "    [0]: <Gaussian2D(amplitude=75.18977026, x_mean=28.9271409, y_mean=29.17186002, x_stddev=3.04870624, y_stddev=2.95232446, theta=0.33240247)>\n",
      "\n",
      "    [1]: <Const2D(amplitude=5.02307156)>\n",
      "Parameters:\n",
      "       amplitude_0         x_mean_0      ...      theta_0          amplitude_1   \n",
      "    ----------------- ------------------ ... ------------------ -----------------\n",
      "    75.18977026051256 28.927140902562666 ... 0.3324024730875609 5.023071562879702\n",
      "1\n"
     ]
    }
   ],
   "source": [
    "# Notice the way that the weights are passed, as 1/standard deviation\n",
    "fitted_source = source_fitter(source_model, x_cutout, y_cutout, cutout.data)#, weights=np.ones_like(data)/sigma_noise)\n",
    "print(fitted_source)\n",
    "# We want the `cov_x` as the model covariance\n",
    "#print(source_fitter.fit_info['cov_x'])\n",
    "# This value will be 1 if the fit was determined to be good\n",
    "print(source_fitter.fit_info['ierr'])"
   ]
  },
  {
   "cell_type": "code",
   "execution_count": 19,
   "metadata": {},
   "outputs": [
    {
     "data": {
      "text/plain": [
       "Text(0.5, 1.0, 'Fit')"
      ]
     },
     "execution_count": 19,
     "metadata": {},
     "output_type": "execute_result"
    }
   ],
   "source": [
    "Display(fitted_source(x_cutout, y_cutout), cutout.wcs)\n",
    "plt.title('Fit')"
   ]
  },
  {
   "cell_type": "code",
   "execution_count": 20,
   "metadata": {},
   "outputs": [],
   "source": [
    "resid = cutout.data - fitted_source(x_cutout, y_cutout)"
   ]
  },
  {
   "cell_type": "code",
   "execution_count": 21,
   "metadata": {},
   "outputs": [
    {
     "data": {
      "text/plain": [
       "Text(0.5, 1.0, 'Residual')"
      ]
     },
     "execution_count": 21,
     "metadata": {},
     "output_type": "execute_result"
    }
   ],
   "source": [
    "Display(resid, cutout.wcs)\n",
    "plt.title('Residual')"
   ]
  },
  {
   "cell_type": "code",
   "execution_count": 22,
   "metadata": {},
   "outputs": [
    {
     "name": "stdout",
     "output_type": "stream",
     "text": [
      "2.211714013603037\n"
     ]
    }
   ],
   "source": [
    "# Now we can go back and estimate the noise, and get an error bar for the fit!\n",
    "sigma_noise = np.std(resid)\n",
    "print(sigma_noise)"
   ]
  },
  {
   "cell_type": "code",
   "execution_count": 23,
   "metadata": {},
   "outputs": [
    {
     "data": {
      "text/plain": [
       "<CompoundModel(amplitude_0=79.32238576, x_mean_0=29., y_mean_0=29., x_stddev_0=3., y_stddev_0=3., theta_0=0., amplitude_1=5.)>"
      ]
     },
     "execution_count": 23,
     "metadata": {},
     "output_type": "execute_result"
    }
   ],
   "source": [
    "gaussian = Gaussian2D(amplitude=cutout_max,x_mean=x_mcu,y_mean=y_mcu,x_stddev=3.,y_stddev=3.,theta=0.) \n",
    "offset = Const2D(amplitude=np.median(cutout.data))                      \n",
    "gaussoff = gaussian + offset\n",
    "source_model = gaussoff\n",
    "source_model"
   ]
  },
  {
   "cell_type": "code",
   "execution_count": 24,
   "metadata": {},
   "outputs": [
    {
     "name": "stdout",
     "output_type": "stream",
     "text": [
      "Model: CompoundModel\n",
      "Inputs: ('x', 'y')\n",
      "Outputs: ('z',)\n",
      "Model set size: 1\n",
      "Expression: [0] + [1]\n",
      "Components: \n",
      "    [0]: <Gaussian2D(amplitude=75.18977026, x_mean=28.9271409, y_mean=29.17186002, x_stddev=3.04870624, y_stddev=2.95232446, theta=0.33240247)>\n",
      "\n",
      "    [1]: <Const2D(amplitude=5.02307156)>\n",
      "Parameters:\n",
      "       amplitude_0         x_mean_0      ...      theta_0          amplitude_1   \n",
      "    ----------------- ------------------ ... ------------------ -----------------\n",
      "    75.18977026051326 28.927140902562716 ... 0.3324024731348911 5.023071562879782\n",
      "[[ 3.45946439e-01  8.29350294e-06  8.35272853e-06 -7.01347861e-03\n",
      "  -6.79214198e-03  4.65077688e-08 -2.50731462e-12]\n",
      " [ 8.29350294e-06  5.65023708e-04  1.09137620e-05 -2.92950025e-07\n",
      "  -4.19720309e-08  1.04653272e-06  6.32451849e-12]\n",
      " [ 8.35272853e-06  1.09137620e-05  5.37237100e-04 -3.91621501e-08\n",
      "  -2.90076522e-07 -1.00280274e-06  6.42309406e-12]\n",
      " [-7.01347861e-03 -2.92950025e-07 -3.91621501e-08  5.78334069e-04\n",
      "   9.23565307e-06  1.17852595e-07 -1.17589388e-04]\n",
      " [-6.79214198e-03 -4.19720309e-08 -2.90076522e-07  9.23565307e-06\n",
      "   5.42407016e-04 -1.14000616e-07 -1.13878407e-04]\n",
      " [ 4.65077688e-08  1.04653272e-06 -1.00280274e-06  1.17852595e-07\n",
      "  -1.14000616e-07  2.97462096e-02 -7.83710493e-10]\n",
      " [-2.50731841e-12  6.32451849e-12  6.42309406e-12 -1.17589388e-04\n",
      "  -1.13878407e-04 -7.83710493e-10  1.44991904e-03]]\n",
      "1\n"
     ]
    }
   ],
   "source": [
    "source_fitter = fitting.LevMarLSQFitter()\n",
    "fitted_source = source_fitter(source_model, x_cutout, y_cutout, cutout.data, weights=np.ones_like(cutout.data)/sigma_noise)\n",
    "print(fitted_source)\n",
    "# We want the `cov_x` as the model covariance\n",
    "cov = source_fitter.fit_info['cov_x']\n",
    "print(cov)\n",
    "# This value will be 1 if the fit was determined to be good\n",
    "print(source_fitter.fit_info['ierr'])"
   ]
  },
  {
   "cell_type": "code",
   "execution_count": 25,
   "metadata": {},
   "outputs": [
    {
     "name": "stdout",
     "output_type": "stream",
     "text": [
      "True amplitude 75.5\n",
      "Fitted amplitude 75.2 +/- 0.6\n"
     ]
    }
   ],
   "source": [
    "# Finally, let's compare the fitted amplitude to the true one\n",
    "print('True amplitude %.1f' % I_true[indx_src])\n",
    "print('Fitted amplitude %.1f +/- %.1f' %(fitted_source.amplitude_0.value, np.sqrt(cov[0,0])))"
   ]
  },
  {
   "cell_type": "code",
   "execution_count": null,
   "metadata": {},
   "outputs": [],
   "source": []
  }
 ],
 "metadata": {
  "kernelspec": {
   "display_name": "Python 3",
   "language": "python",
   "name": "python3"
  },
  "language_info": {
   "codemirror_mode": {
    "name": "ipython",
    "version": 3
   },
   "file_extension": ".py",
   "mimetype": "text/x-python",
   "name": "python",
   "nbconvert_exporter": "python",
   "pygments_lexer": "ipython3",
   "version": "3.7.7"
  }
 },
 "nbformat": 4,
 "nbformat_minor": 4
}
