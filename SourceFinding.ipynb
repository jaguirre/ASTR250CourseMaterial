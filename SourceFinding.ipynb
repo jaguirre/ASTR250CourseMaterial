{
 "cells": [
  {
   "cell_type": "markdown",
   "metadata": {},
   "source": [
    "Just gotta do it: need another package\n",
    "\n",
    "https://photutils.readthedocs.io/en/stable/index.html\n",
    "\n",
    "`conda install photutils -c astropy`"
   ]
  },
  {
   "cell_type": "code",
   "execution_count": 1,
   "metadata": {},
   "outputs": [],
   "source": [
    "%matplotlib qt\n",
    "import numpy as np\n",
    "import matplotlib.pyplot as plt\n",
    "import astropy.coordinates as coord\n",
    "from astropy import units as u\n",
    "from astropy import constants as c\n",
    "from astropy.io import fits\n",
    "from photutils import DAOStarFinder, aperture_photometry, CircularAperture\n",
    "from astropy.stats import mad_std"
   ]
  },
  {
   "cell_type": "code",
   "execution_count": 2,
   "metadata": {},
   "outputs": [],
   "source": [
    "hdu = fits.open('simulated_image.fits')\n",
    "# These are the actual values used, but for real data we would have to determine them from the data itself\n",
    "sigma_noise = np.sqrt(5.) # variance and mean are 5\n",
    "avg_bckgrd = 5.\n",
    "sigma_beam = 3.\n",
    "fwhm = 2.355*sigma_beam"
   ]
  },
  {
   "cell_type": "code",
   "execution_count": 3,
   "metadata": {},
   "outputs": [],
   "source": [
    "# Get the true source positions and brightnesses\n",
    "x_true = hdu[1].data['x_src']\n",
    "y_true = hdu[1].data['y_src']\n",
    "I_true = hdu[1].data['I_src']"
   ]
  },
  {
   "cell_type": "code",
   "execution_count": 4,
   "metadata": {},
   "outputs": [
    {
     "name": "stdout",
     "output_type": "stream",
     "text": [
      "5.000000000000681\n"
     ]
    }
   ],
   "source": [
    "# That seems to pick up on the correct background level\n",
    "image = hdu[0].data\n",
    "image_srcfind = image.copy()\n",
    "image_med = np.median(image_srcfind) \n",
    "image_srcfind -= image_med\n",
    "print(image_med)"
   ]
  },
  {
   "cell_type": "code",
   "execution_count": 5,
   "metadata": {},
   "outputs": [],
   "source": [
    "plt.figure()\n",
    "plt.imshow(image,vmax=50,origin='lower')\n",
    "plt.title('Original data')\n",
    "plt.colorbar()\n",
    "plt.show()"
   ]
  },
  {
   "cell_type": "code",
   "execution_count": 6,
   "metadata": {},
   "outputs": [
    {
     "name": "stdout",
     "output_type": "stream",
     "text": [
      "2.965197513650069\n",
      "2.23606797749979\n"
     ]
    }
   ],
   "source": [
    "bkg_sigma = mad_std(image_srcfind)\n",
    "print(bkg_sigma) \n",
    "# The right answer is \n",
    "print(sigma_noise)"
   ]
  },
  {
   "cell_type": "code",
   "execution_count": 7,
   "metadata": {},
   "outputs": [],
   "source": [
    "plt.imshow(image_srcfind, vmin=4*bkg_sigma,origin='lower', vmax=50)\n",
    "plt.title('Threshhold image')\n",
    "plt.colorbar()\n",
    "plt.show()"
   ]
  },
  {
   "cell_type": "code",
   "execution_count": 22,
   "metadata": {},
   "outputs": [
    {
     "name": "stdout",
     "output_type": "stream",
     "text": [
      " id     xcentroid      ...        flux                mag        \n",
      "--- ------------------ ... ------------------ -------------------\n",
      "  1 173.81356213844984 ...  4.921071889627898  -1.730149273711321\n",
      "  2  311.8237824173658 ...  6.037215102957682 -1.9520916245613469\n",
      "  3 360.16889687048126 ...  7.736385200995659 -2.2213452137337693\n",
      "  4 26.705071650889487 ...  5.123347077199059 -1.7738844445447277\n",
      "  5  474.6480559919592 ...  5.840838252232719 -1.9161879491998903\n",
      "  6  257.5426919940964 ... 4.7398506920226104  -1.689411653419401\n",
      "  7  484.1200584158487 ...  7.660019934985249 -2.2105747496829538\n",
      "  8  73.36782045075293 ...  8.039440354855252 -2.2630645437437424\n",
      "  9  99.10155637103827 ...  5.629073035370265 -1.8760922088118657\n",
      " 10 339.42613496681656 ...  4.669153554946441 -1.6730953921354894\n",
      "...                ... ...                ...                 ...\n",
      " 89  70.18174683474425 ...  4.856884824270572 -1.7158945119372628\n",
      " 90 132.74675171543785 ...  4.443668506615263 -1.6193541338192972\n",
      " 91 208.64683701041977 ...  4.461139639430455 -1.6236145435809333\n",
      " 92  308.5553700811772 ...  4.581930018769656 -1.6526211294761626\n",
      " 93 140.25565120809577 ...  4.792514708295945 -1.7014086360202507\n",
      " 94  65.01032110869751 ...  5.564448082432416  -1.863555236752782\n",
      " 95 494.49704202338677 ...  5.209559004306953 -1.7920024032094188\n",
      " 96  349.9019733676741 ...  7.622386510558259 -2.2052274172261392\n",
      " 97  331.6961004816368 ... 14.981299614973288  -2.938873724184571\n",
      " 98 472.30343458261007 ...  24.41812015778254  -3.469280566249147\n",
      " 99  294.6841787725701 ...  9.515782173106624 -2.4461112299818617\n",
      "Length = 99 rows\n"
     ]
    }
   ],
   "source": [
    "daofind = DAOStarFinder(fwhm=fwhm, threshold=4.*bkg_sigma)\n",
    "sources = daofind(image_srcfind) \n",
    "print(sources)"
   ]
  },
  {
   "cell_type": "code",
   "execution_count": 23,
   "metadata": {},
   "outputs": [],
   "source": [
    "positions = [(x,y) for x,y in zip(sources['xcentroid'].data, sources['ycentroid'].data)]"
   ]
  },
  {
   "cell_type": "code",
   "execution_count": 24,
   "metadata": {},
   "outputs": [],
   "source": [
    "apertures = CircularAperture(positions, r=fwhm)\n",
    "#phot_table = aperture_photometry(image, apertures)"
   ]
  },
  {
   "cell_type": "code",
   "execution_count": 30,
   "metadata": {},
   "outputs": [],
   "source": [
    "plt.figure(figsize=(10,8))\n",
    "plt.imshow(image_srcfind, vmin=-bkg_sigma, vmax=4*bkg_sigma)\n",
    "apertures.plot(color='red')\n",
    "plt.colorbar(shrink=0.9)\n",
    "plt.show()"
   ]
  },
  {
   "cell_type": "code",
   "execution_count": 31,
   "metadata": {},
   "outputs": [],
   "source": [
    "# Let's match the sources we found against the true ones\n",
    "real_indx = np.zeros_like(sources['id'])"
   ]
  },
  {
   "cell_type": "code",
   "execution_count": 33,
   "metadata": {},
   "outputs": [],
   "source": [
    "for i, source in enumerate(sources):\n",
    "    # Find the distance between the source which was found and the true positions\n",
    "    d = np.sqrt( np.power(source['xcentroid'] - x_true, 2) + np.power(source['xcentroid'] - x_true, 2) )\n",
    "    real_indx[i] = np.argmin(d)"
   ]
  },
  {
   "cell_type": "code",
   "execution_count": 47,
   "metadata": {},
   "outputs": [],
   "source": [
    "plt.figure()\n",
    "plt.plot(x_true, y_true, 'o')\n",
    "plt.plot(sources['xcentroid'], sources['ycentroid'],'x', color='red')\n",
    "plt.show()"
   ]
  },
  {
   "cell_type": "code",
   "execution_count": 53,
   "metadata": {},
   "outputs": [],
   "source": [
    "plt.figure()\n",
    "plt.plot(sources['xcentroid'],x_true[real_indx],'o')\n",
    "plt.show()\n",
    "plt.figure()\n",
    "plt.hist(sources['xcentroid']-x_true[real_indx],bins=30)\n",
    "plt.show()"
   ]
  },
  {
   "cell_type": "code",
   "execution_count": 54,
   "metadata": {},
   "outputs": [],
   "source": [
    "plt.figure()\n",
    "plt.plot(sources['ycentroid'],y_true[real_indx],'o')\n",
    "plt.show()\n",
    "plt.figure()\n",
    "plt.hist(sources['ycentroid']-y_true[real_indx],bins=30)\n",
    "plt.show()"
   ]
  },
  {
   "cell_type": "code",
   "execution_count": 55,
   "metadata": {},
   "outputs": [],
   "source": [
    "plt.figure()\n",
    "plt.plot(sources['peak'],I_true[real_indx],'o')\n",
    "plt.plot([0,200],[0,200])\n",
    "plt.show()\n",
    "plt.figure()\n",
    "plt.hist(sources['peak']-I_true[real_indx],bins=30)\n",
    "plt.show()"
   ]
  },
  {
   "cell_type": "code",
   "execution_count": null,
   "metadata": {},
   "outputs": [],
   "source": []
  }
 ],
 "metadata": {
  "kernelspec": {
   "display_name": "Python 3",
   "language": "python",
   "name": "python3"
  },
  "language_info": {
   "codemirror_mode": {
    "name": "ipython",
    "version": 3
   },
   "file_extension": ".py",
   "mimetype": "text/x-python",
   "name": "python",
   "nbconvert_exporter": "python",
   "pygments_lexer": "ipython3",
   "version": "3.7.7"
  }
 },
 "nbformat": 4,
 "nbformat_minor": 4
}
